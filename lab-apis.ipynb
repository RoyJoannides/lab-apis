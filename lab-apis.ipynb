{
 "cells": [
  {
   "cell_type": "markdown",
   "id": "27422808-8a16-4be1-897f-57b379af8991",
   "metadata": {},
   "source": [
    "# Lab | APIs"
   ]
  },
  {
   "cell_type": "markdown",
   "id": "50f30950-3e31-499a-92ea-1535422c570b",
   "metadata": {},
   "source": [
    "In order to use the `Spotify` API (`SpotiPy`), create an account in `Spotify` and follow [these](https://developer.spotify.com/documentation/general/guides/app-settings/) steps. "
   ]
  },
  {
   "cell_type": "markdown",
   "id": "a0479b95-6ca5-415e-b894-1f5cb17b055b",
   "metadata": {},
   "source": [
    "## Authentication and initializing the API"
   ]
  },
  {
   "cell_type": "markdown",
   "id": "47d71611-c617-4972-a0c3-7090c24b399c",
   "metadata": {},
   "source": [
    "Save your client ID and your client secret in your preferred way, and read it or load it into the following variables:"
   ]
  },
  {
   "cell_type": "code",
   "execution_count": 1,
   "id": "ea44c82a-5c07-4dbc-beb2-bba2601bb75e",
   "metadata": {},
   "outputs": [],
   "source": [
    "CLIENT_ID = \"xxxxx\" #details removed after running the code\n",
    "CLIENT_SECRET = \"xxxxxx\"#details removed after running the code"
   ]
  },
  {
   "cell_type": "code",
   "execution_count": null,
   "id": "319cfd4e-f6fb-4419-80e0-e3983cd25e43",
   "metadata": {},
   "outputs": [],
   "source": [
    "CLIENT_ID = \"4109b2d9f5014671863bb2df1d1fbdd3\"\n",
    "CLIENT_SECRET = \"5cb719fae80c4191a9c0b288f51bfe50\""
   ]
  },
  {
   "cell_type": "code",
   "execution_count": null,
   "id": "04e12954-fd70-4311-88a5-fb7e2c29799c",
   "metadata": {},
   "outputs": [],
   "source": [
    "# If you havent done so, install the spotipy wrapper\n",
    "!pip install spotipy"
   ]
  },
  {
   "cell_type": "markdown",
   "id": "dc0e86da-8846-4207-84c3-cd20b9e01d0e",
   "metadata": {},
   "source": [
    "Once you have done it, we will start initializing the API."
   ]
  },
  {
   "cell_type": "code",
   "execution_count": 2,
   "id": "03034bc6-9858-412a-83b7-18abdc345d7e",
   "metadata": {},
   "outputs": [],
   "source": [
    "import spotipy\n",
    "from spotipy.oauth2 import SpotifyClientCredentials\n",
    "\n",
    "#Initialize SpotiPy with user credentials\n",
    "sp = spotipy.Spotify(auth_manager=SpotifyClientCredentials(client_id=CLIENT_ID,\n",
    "                                                           client_secret=CLIENT_SECRET))\n"
   ]
  },
  {
   "cell_type": "markdown",
   "id": "8fed9628-08d7-4290-a4be-5527696b01c5",
   "metadata": {},
   "source": [
    "## Using the search method"
   ]
  },
  {
   "cell_type": "markdown",
   "id": "6575a3c6-f25a-4905-b1f3-c0efd50dcc1e",
   "metadata": {},
   "source": [
    "Now, let's use the search method by introducing a \"query\". For example, let's try searching for \"Lady Gaga\":"
   ]
  },
  {
   "cell_type": "code",
   "execution_count": 25,
   "id": "7772a1e0-9692-4d04-a590-76111a272d8d",
   "metadata": {
    "tags": []
   },
   "outputs": [],
   "source": [
    "results = sp.search(q='Lady Gaga', limit=50)\n",
    "results"
   ]
  },
  {
   "cell_type": "code",
   "execution_count": 4,
   "id": "edc14c95-474b-4e2a-aea3-bdfd0a205546",
   "metadata": {},
   "outputs": [
    {
     "data": {
      "text/plain": [
       "dict_keys(['tracks'])"
      ]
     },
     "execution_count": 4,
     "metadata": {},
     "output_type": "execute_result"
    }
   ],
   "source": [
    "results.keys() # We can see that we only have tracks"
   ]
  },
  {
   "cell_type": "code",
   "execution_count": 5,
   "id": "ad8ef934-1dbb-4008-ac8e-f5c29823fe6a",
   "metadata": {},
   "outputs": [
    {
     "data": {
      "text/plain": [
       "dict_keys(['href', 'items', 'limit', 'next', 'offset', 'previous', 'total'])"
      ]
     },
     "execution_count": 5,
     "metadata": {},
     "output_type": "execute_result"
    }
   ],
   "source": [
    "results[\"tracks\"].keys() # Let's check the values"
   ]
  },
  {
   "cell_type": "code",
   "execution_count": 6,
   "id": "004b7814-4dd5-408e-b7ba-1da87f9250cb",
   "metadata": {},
   "outputs": [
    {
     "data": {
      "text/plain": [
       "'https://api.spotify.com/v1/search?query=Lady+Gaga&type=track&offset=0&limit=50'"
      ]
     },
     "execution_count": 6,
     "metadata": {},
     "output_type": "execute_result"
    }
   ],
   "source": [
    "results[\"tracks\"][\"href\"] # Query we have searched "
   ]
  },
  {
   "cell_type": "code",
   "execution_count": 23,
   "id": "7285cedd-fbe1-47cf-98d5-a7fdc3e5c8b8",
   "metadata": {
    "scrolled": true,
    "tags": []
   },
   "outputs": [],
   "source": [
    "results[\"tracks\"][\"items\"] #items (actual tracks)"
   ]
  },
  {
   "cell_type": "code",
   "execution_count": 8,
   "id": "529fff56-47d3-4d78-8ff5-9530fe290d1d",
   "metadata": {},
   "outputs": [
    {
     "data": {
      "text/plain": [
       "50"
      ]
     },
     "execution_count": 8,
     "metadata": {},
     "output_type": "execute_result"
    }
   ],
   "source": [
    "results[\"tracks\"][\"limit\"]#Limit we have chosen"
   ]
  },
  {
   "cell_type": "code",
   "execution_count": 9,
   "id": "92c64c57-3bd2-4d42-bbd1-84a040f1e02a",
   "metadata": {},
   "outputs": [
    {
     "data": {
      "text/plain": [
       "'https://api.spotify.com/v1/search?query=Lady+Gaga&type=track&offset=50&limit=50'"
      ]
     },
     "execution_count": 9,
     "metadata": {},
     "output_type": "execute_result"
    }
   ],
   "source": [
    "results[\"tracks\"][\"next\"] #link to the next page (next 50 tracks)"
   ]
  },
  {
   "cell_type": "code",
   "execution_count": 10,
   "id": "f5ccdf79-5d9e-40de-adb9-2cc1e5b7c74a",
   "metadata": {
    "tags": []
   },
   "outputs": [
    {
     "data": {
      "text/plain": [
       "0"
      ]
     },
     "execution_count": 10,
     "metadata": {},
     "output_type": "execute_result"
    }
   ],
   "source": [
    "results[\"tracks\"][\"offset\"] # Actual offset (starting point)"
   ]
  },
  {
   "cell_type": "code",
   "execution_count": 13,
   "id": "356730c1-60a2-4ea8-bd2c-e0522bab8a4d",
   "metadata": {},
   "outputs": [],
   "source": [
    "results[\"tracks\"][\"previous\"] #Previous search"
   ]
  },
  {
   "cell_type": "code",
   "execution_count": 14,
   "id": "7c44c8fd-63ea-45ba-94bd-5c5e8e1458b3",
   "metadata": {},
   "outputs": [
    {
     "data": {
      "text/plain": [
       "1000"
      ]
     },
     "execution_count": 14,
     "metadata": {},
     "output_type": "execute_result"
    }
   ],
   "source": [
    "results[\"tracks\"][\"total\"] # Number of matches"
   ]
  },
  {
   "cell_type": "markdown",
   "id": "7a127c64-3274-4ecc-aa0f-83ae34af4655",
   "metadata": {},
   "source": [
    "## Exploring the tracks"
   ]
  },
  {
   "cell_type": "code",
   "execution_count": 24,
   "id": "6c3541a2-0fd2-41e0-9b27-60a7dc36c4cb",
   "metadata": {
    "scrolled": true,
    "tags": []
   },
   "outputs": [],
   "source": [
    "results[\"tracks\"][\"items\"][0] # Explore the first song"
   ]
  },
  {
   "cell_type": "code",
   "execution_count": 16,
   "id": "f2c35eb2-3ea6-4329-9f29-7c062f466638",
   "metadata": {},
   "outputs": [
    {
     "data": {
      "text/plain": [
       "dict_keys(['album', 'artists', 'available_markets', 'disc_number', 'duration_ms', 'explicit', 'external_ids', 'external_urls', 'href', 'id', 'is_local', 'name', 'popularity', 'preview_url', 'track_number', 'type', 'uri'])"
      ]
     },
     "execution_count": 16,
     "metadata": {},
     "output_type": "execute_result"
    }
   ],
   "source": [
    "results[\"tracks\"][\"items\"][0].keys() # We will focus on album, artists, id, name, popularity, type and uri"
   ]
  },
  {
   "cell_type": "code",
   "execution_count": 17,
   "id": "889ca3c3-b0c8-4037-96fb-6add847f537f",
   "metadata": {},
   "outputs": [
    {
     "data": {
      "text/plain": [
       "[{'external_urls': {'spotify': 'https://open.spotify.com/artist/1HY2Jd0NmPuamShAr6KMms'},\n",
       "  'href': 'https://api.spotify.com/v1/artists/1HY2Jd0NmPuamShAr6KMms',\n",
       "  'id': '1HY2Jd0NmPuamShAr6KMms',\n",
       "  'name': 'Lady Gaga',\n",
       "  'type': 'artist',\n",
       "  'uri': 'spotify:artist:1HY2Jd0NmPuamShAr6KMms'}]"
      ]
     },
     "execution_count": 17,
     "metadata": {},
     "output_type": "execute_result"
    }
   ],
   "source": [
    "# Track artists\n",
    "results[\"tracks\"][\"items\"][0][\"artists\"] "
   ]
  },
  {
   "cell_type": "code",
   "execution_count": 18,
   "id": "a9c6a0b2-cea7-48ff-8c51-179d15388aa2",
   "metadata": {},
   "outputs": [
    {
     "name": "stdout",
     "output_type": "stream",
     "text": [
      "Lady Gaga\n"
     ]
    }
   ],
   "source": [
    "# Track artists names\n",
    "for artist in results[\"tracks\"][\"items\"][0][\"artists\"]:\n",
    "    print(artist[\"name\"])"
   ]
  },
  {
   "cell_type": "code",
   "execution_count": 19,
   "id": "6a826e9c-d2e7-4537-a82c-3dc3a2b80b9f",
   "metadata": {},
   "outputs": [
    {
     "data": {
      "text/plain": [
       "'0SiywuOBRcynK0uKGWdCnn'"
      ]
     },
     "execution_count": 19,
     "metadata": {},
     "output_type": "execute_result"
    }
   ],
   "source": [
    "# Track ID\n",
    "results[\"tracks\"][\"items\"][0][\"id\"] "
   ]
  },
  {
   "cell_type": "code",
   "execution_count": 20,
   "id": "a5bd871b-6087-4680-819c-1a1d8ba879bc",
   "metadata": {},
   "outputs": [
    {
     "data": {
      "text/plain": [
       "'Bad Romance'"
      ]
     },
     "execution_count": 20,
     "metadata": {},
     "output_type": "execute_result"
    }
   ],
   "source": [
    "# Track name\n",
    "results[\"tracks\"][\"items\"][0][\"name\"] "
   ]
  },
  {
   "cell_type": "code",
   "execution_count": 21,
   "id": "812661f1-29db-452f-a719-cdfbe95ba9f6",
   "metadata": {},
   "outputs": [
    {
     "data": {
      "text/plain": [
       "87"
      ]
     },
     "execution_count": 21,
     "metadata": {},
     "output_type": "execute_result"
    }
   ],
   "source": [
    "# Popularity index\n",
    "results[\"tracks\"][\"items\"][0][\"popularity\"] "
   ]
  },
  {
   "cell_type": "markdown",
   "id": "0e81c762-e6c5-424e-a4eb-12ab45dffb9f",
   "metadata": {},
   "source": [
    "Spotify songs are identified by either a \"url\", a \"uri\", or an \"id\". \n",
    "\n",
    "- The `id` is an alphanumeric code, and it's the nuclear part of the identifier.\n",
    "\n",
    "- The `uri` contains \"spotify:track\" before the id. An uri is useful because it can be searched manually in the Spotify app.\n",
    "\n",
    "- The `url` is a link to the song on the Spotify web player.\n"
   ]
  },
  {
   "cell_type": "code",
   "execution_count": 22,
   "id": "8bcdccfc-dde9-4f4b-8af5-3caa335b89b5",
   "metadata": {},
   "outputs": [
    {
     "data": {
      "text/plain": [
       "'spotify:track:0SiywuOBRcynK0uKGWdCnn'"
      ]
     },
     "execution_count": 22,
     "metadata": {},
     "output_type": "execute_result"
    }
   ],
   "source": [
    "results[\"tracks\"][\"items\"][0][\"uri\"]"
   ]
  },
  {
   "cell_type": "markdown",
   "id": "71c3c9c1-4ec2-42bf-a243-b21105ae1699",
   "metadata": {},
   "source": [
    "## Exercise 1: Discovering New Music through Your Favorite Artists\n",
    "\n",
    "**Objective:** \n",
    "Uncover new music by exploring the top tracks of your favorite artists and their related artists.\n",
    "\n",
    "**Instructions:**\n",
    "\n",
    "1. **List Your Favorite Artists**:\n",
    "    - Make a list of your three favorite artists and store it in a variable named `artists`.\n",
    "    - Example: `artists = [\"Los Fabulosos Cadillacs\", \"Manu Chao\", \"Muchachito Bombo Infierno\"]`.\n",
    "\n",
    "2. **Fetch Top Tracks**:\n",
    "    - Write a function named `get_top_tracks`.\n",
    "    - This function should accept an artist's name and return the name of the first 5 top tracks by that artist.\n",
    "    - Use the function `get_top_tracks` to get the first 5 top tracks for each artist in your `artists` list and store the results in a new list named `top_tracks_list`.\n",
    "\n",
    "3. **Discover Related Artists**:\n",
    "    - Write a function named `find_related_artists`.\n",
    "    - This function should accept an artist's name and return the names of the first 5 artists related to the provided artist.\n",
    "    - Store the results in a list named `related_artists_list`.\n",
    "\n",
    "**Challenge:** \n",
    "Combine the above steps to create a playlist that includes the top tracks of your favorite artists and the top tracks of the artists related to them."
   ]
  },
  {
   "cell_type": "markdown",
   "id": "0c442378-e26f-47c8-b4f1-b4fa07089935",
   "metadata": {},
   "source": [
    "**Hint Section for 3. **Discover Related Artists**:**\n",
    "\n",
    "1. **Getting Artist ID**:\n",
    "    - Remember that every artist on Spotify has a unique identifier: their `id`. To get the related artists, you first need to fetch the ID of the given artist.\n",
    "    - Consider using the `sp.search` method to query the artist's name. The method requires a `q` parameter, which is your query (in this case, the artist's name). It also has a `limit` parameter, which specifies the number of tracks it returns. In this case, 1 track is enough, since we just want the artist ID. \n",
    "    - Each track in the results has an associated 'artists' field. This field is a list containing details about all artists involved in that track.\n",
    "   - For most tracks, especially those by a single artist, this list will contain one artist. From this artist's details, you can extract the 'id' field, which is the unique identifier for that artist on Spotify.\n",
    "\n",
    "\n",
    "3. **Fetching Related Artists**:\n",
    "    - Once you have the artist's ID, you can use another SpotiPy method to fetch related artists. Think about which SpotiPy method allows you to get related artists using an artist's ID. Here is the documentation link: https://spotipy.readthedocs.io/en/2.22.1/. \n",
    "    - This method will return a list of related artists. You'll need to extract the relevant details (artist names) from this list.\n",
    "\n",
    "4. **Iterating for Multiple Artists**:\n",
    "    - Once you have a function that returns related artists names for one artist, you can use a list comprehension to apply this function to a list of artist names.\n",
    "\n",
    "5. **Testing**:\n",
    "    - Always test your function with one artist name first. Once you're confident it works, then apply it to the entire list.\n",
    "\n",
    "Remember, the key is to break the problem down into manageable steps. Use the SpotiPy documentation as a resource to understand available methods and their return structures."
   ]
  },
  {
   "cell_type": "code",
   "execution_count": 26,
   "id": "29694252-f217-454d-8881-681b2b6eeb1e",
   "metadata": {},
   "outputs": [],
   "source": [
    "import spotipy\n",
    "from spotipy.oauth2 import SpotifyClientCredentials\n",
    "\n",
    "#Spotify API credentials\n",
    "CLIENT_ID = \"476a909cdcd04e33952a1a1e56afc5dd\"\n",
    "CLIENT_SECRET = \"2201f12b13d845939d755eb2c28db25d\"\n",
    "\n",
    "# Initialize SpotiPy with user credentials\n",
    "sp = spotipy.Spotify(auth_manager=SpotifyClientCredentials(client_id=CLIENT_ID, client_secret=CLIENT_SECRET))"
   ]
  },
  {
   "cell_type": "code",
   "execution_count": 28,
   "id": "da7c654b",
   "metadata": {},
   "outputs": [],
   "source": [
    "# List of my favorite artists\n",
    "artists = [\"Nathaniel Bassey\", \"Dunsin Oyekan\", \"Joe Mettle\"]\n",
    "\n",
    "# Function to get the top tracks for artists\n",
    "def get_top_tracks(artist_name):\n",
    "    results = sp.search(q=artist_name, limit=1)\n",
    "    artist_id = results[\"tracks\"][\"items\"][0][\"artists\"][0][\"id\"]\n",
    "    top_tracks = sp.artist_top_tracks(artist_id)[\"tracks\"][:5]\n",
    "    return [track[\"name\"] for track in top_tracks]"
   ]
  },
  {
   "cell_type": "code",
   "execution_count": 29,
   "id": "b3457ff8",
   "metadata": {},
   "outputs": [
    {
     "name": "stdout",
     "output_type": "stream",
     "text": [
      "\n",
      "Top tracks for Nathaniel Bassey:\n",
      "1. Olorun Agbaye - You Are Mighty\n",
      "2. Jesus Iye\n",
      "3. Tobechukwu - Live\n",
      "4. Ebenezer - Live\n",
      "5. Adonai\n",
      "\n",
      "Top tracks for Dunsin Oyekan:\n",
      "1. Olorun Agbaye - You Are Mighty\n",
      "2. Jesus Iye\n",
      "3. Tobechukwu - Live\n",
      "4. Ebenezer - Live\n",
      "5. Adonai\n",
      "\n",
      "Top tracks for Joe Mettle:\n",
      "1. My Everything\n",
      "2. The Kadosh (Live)\n",
      "3. Kadosh\n",
      "4. Bo Noo Ni (feat. Luigi Maclean)\n",
      "5. Hallelujah (feat. Dunsin Oyekan) - Live\n"
     ]
    }
   ],
   "source": [
    "# Getting the top 5 tracks for each artist \n",
    "top_tracks_list = [get_top_tracks(artist) for artist in artists]\n",
    "\n",
    "#the results\n",
    "for i, artist in enumerate(artists):\n",
    "    print(f\"\\nTop tracks for {artist}:\")\n",
    "    for j, track in enumerate(top_tracks_list[i]):\n",
    "        print(f\"{j + 1}. {track}\")"
   ]
  },
  {
   "cell_type": "code",
   "execution_count": 30,
   "id": "b3cdd8fb",
   "metadata": {},
   "outputs": [
    {
     "name": "stdout",
     "output_type": "stream",
     "text": [
      "\n",
      "Related artists for Nathaniel Bassey:\n",
      "1. Dunsin Oyekan\n",
      "2. Tim Godfrey\n",
      "3. Victoria Orenze\n",
      "4. Moses Bliss\n",
      "5. Mercy Chinwo\n",
      "\n",
      "Related artists for Dunsin Oyekan:\n",
      "1. Dunsin Oyekan\n",
      "2. Tim Godfrey\n",
      "3. Victoria Orenze\n",
      "4. Moses Bliss\n",
      "5. Mercy Chinwo\n",
      "\n",
      "Related artists for Joe Mettle:\n",
      "1. KODA\n",
      "2. Celestine Donkor\n",
      "3. Denzel Prempeh\n",
      "4. Joe Beecham\n",
      "5. Diana Hamilton\n"
     ]
    }
   ],
   "source": [
    "# Function to find related artists for a given artist\n",
    "def find_related_artists(artist_name):\n",
    "    results = sp.search(q=artist_name, limit=1)\n",
    "    artist_id = results[\"tracks\"][\"items\"][0][\"artists\"][0][\"id\"]\n",
    "    related_artists = sp.artist_related_artists(artist_id)[\"artists\"][:5]\n",
    "    return [related_artist[\"name\"] for related_artist in related_artists]\n",
    "\n",
    "# Getting the related artists for each artist in the list\n",
    "related_artists_list = [find_related_artists(artist) for artist in artists]\n",
    "\n",
    "#the related artists\n",
    "for i, artist in enumerate(artists):\n",
    "    print(f\"\\nRelated artists for {artist}:\")\n",
    "    for j, related_artist in enumerate(related_artists_list[i]):\n",
    "        print(f\"{j + 1}. {related_artist}\")\n"
   ]
  },
  {
   "cell_type": "markdown",
   "id": "94ad5fdc-22e5-4521-8aa1-c6833eb7e949",
   "metadata": {},
   "source": [
    "## Playlists\n",
    "\n",
    "The `sp.featured_playlists()` method in `spotipy` fetches a list of Spotify's featured playlists at a given moment. These are curated playlists that Spotify often highlights on the platform's homepage. The method provides a snapshot of the playlists that are being promoted or featured by Spotify at the time of the request.\n",
    "\n",
    "Once you've fetched the featured playlists, you can extract their IDs (and other details)."
   ]
  },
  {
   "cell_type": "code",
   "execution_count": 33,
   "id": "25fb0cf8-c13a-41b0-b8f8-7e0700fd1e41",
   "metadata": {},
   "outputs": [
    {
     "data": {
      "text/plain": [
       "{'message': 'Popular Playlists',\n",
       " 'playlists': {'href': 'https://api.spotify.com/v1/browse/featured-playlists?offset=0&limit=20',\n",
       "  'items': [{'collaborative': False,\n",
       "    'description': 'The hottest tracks in Ghana. Cover: KiDi',\n",
       "    'external_urls': {'spotify': 'https://open.spotify.com/playlist/37i9dQZF1DWSHg3zCMrBDf'},\n",
       "    'href': 'https://api.spotify.com/v1/playlists/37i9dQZF1DWSHg3zCMrBDf',\n",
       "    'id': '37i9dQZF1DWSHg3zCMrBDf',\n",
       "    'images': [{'height': None,\n",
       "      'url': 'https://i.scdn.co/image/ab67706f000000027b153b8bf9e417932eb12c3c',\n",
       "      'width': None}],\n",
       "    'name': 'Hot Hits Ghana',\n",
       "    'owner': {'display_name': 'Spotify',\n",
       "     'external_urls': {'spotify': 'https://open.spotify.com/user/spotify'},\n",
       "     'href': 'https://api.spotify.com/v1/users/spotify',\n",
       "     'id': 'spotify',\n",
       "     'type': 'user',\n",
       "     'uri': 'spotify:user:spotify'},\n",
       "    'primary_color': '#ffffff',\n",
       "    'public': True,\n",
       "    'snapshot_id': 'ZeEavAAAAABzpIW6RCjrLAE7bUAM3zEg',\n",
       "    'tracks': {'href': 'https://api.spotify.com/v1/playlists/37i9dQZF1DWSHg3zCMrBDf/tracks',\n",
       "     'total': 50},\n",
       "    'type': 'playlist',\n",
       "    'uri': 'spotify:playlist:37i9dQZF1DWSHg3zCMrBDf'},\n",
       "   {'collaborative': False,\n",
       "    'description': 'The tracks heating up the continent right now!  Cover:  <a href=\"https://open.spotify.com/artist/2hKQc001G7ggs3ZyxMdkGq?si=LWGDBCkgTrqs5Hqs3HAR-A\">Patoranking</a>  ',\n",
       "    'external_urls': {'spotify': 'https://open.spotify.com/playlist/37i9dQZF1DWYkaDif7Ztbp'},\n",
       "    'href': 'https://api.spotify.com/v1/playlists/37i9dQZF1DWYkaDif7Ztbp',\n",
       "    'id': '37i9dQZF1DWYkaDif7Ztbp',\n",
       "    'images': [{'height': None,\n",
       "      'url': 'https://i.scdn.co/image/ab67706f0000000258cbf41a014ab69417167076',\n",
       "      'width': None}],\n",
       "    'name': 'African Heat',\n",
       "    'owner': {'display_name': 'Spotify',\n",
       "     'external_urls': {'spotify': 'https://open.spotify.com/user/spotify'},\n",
       "     'href': 'https://api.spotify.com/v1/users/spotify',\n",
       "     'id': 'spotify',\n",
       "     'type': 'user',\n",
       "     'uri': 'spotify:user:spotify'},\n",
       "    'primary_color': '#FFFFFF',\n",
       "    'public': True,\n",
       "    'snapshot_id': 'ZeGcSQAAAADcUyuoTm9/OAWkPV6+nI+6',\n",
       "    'tracks': {'href': 'https://api.spotify.com/v1/playlists/37i9dQZF1DWYkaDif7Ztbp/tracks',\n",
       "     'total': 50},\n",
       "    'type': 'playlist',\n",
       "    'uri': 'spotify:playlist:37i9dQZF1DWYkaDif7Ztbp'},\n",
       "   {'collaborative': False,\n",
       "    'description': 'The Hottest Christian and Gospel music from across the African continent.  Cover:  <a href=\"https://open.spotify.com/artist/1voWj2pMS3ApzUroyIcHXM?si=C9-23PBuSF2oV6zMlS553A\">Ebuka Songs</a>',\n",
       "    'external_urls': {'spotify': 'https://open.spotify.com/playlist/37i9dQZF1DX9lAYMw7KoAO'},\n",
       "    'href': 'https://api.spotify.com/v1/playlists/37i9dQZF1DX9lAYMw7KoAO',\n",
       "    'id': '37i9dQZF1DX9lAYMw7KoAO',\n",
       "    'images': [{'height': None,\n",
       "      'url': 'https://i.scdn.co/image/ab67706f00000002cc430765be7e775f762b280a',\n",
       "      'width': None}],\n",
       "    'name': 'African Gospel Hits',\n",
       "    'owner': {'display_name': 'Spotify',\n",
       "     'external_urls': {'spotify': 'https://open.spotify.com/user/spotify'},\n",
       "     'href': 'https://api.spotify.com/v1/users/spotify',\n",
       "     'id': 'spotify',\n",
       "     'type': 'user',\n",
       "     'uri': 'spotify:user:spotify'},\n",
       "    'primary_color': '#ffffff',\n",
       "    'public': True,\n",
       "    'snapshot_id': 'ZeHSHwAAAADcLsxJIao3PsvTc97DFbmQ',\n",
       "    'tracks': {'href': 'https://api.spotify.com/v1/playlists/37i9dQZF1DX9lAYMw7KoAO/tracks',\n",
       "     'total': 50},\n",
       "    'type': 'playlist',\n",
       "    'uri': 'spotify:playlist:37i9dQZF1DX9lAYMw7KoAO'},\n",
       "   {'collaborative': False,\n",
       "    'description': 'Tate McRae is on top of the Hottest 50!',\n",
       "    'external_urls': {'spotify': 'https://open.spotify.com/playlist/37i9dQZF1DXcBWIGoYBM5M'},\n",
       "    'href': 'https://api.spotify.com/v1/playlists/37i9dQZF1DXcBWIGoYBM5M',\n",
       "    'id': '37i9dQZF1DXcBWIGoYBM5M',\n",
       "    'images': [{'height': None,\n",
       "      'url': 'https://i.scdn.co/image/ab67706f000000022e63cecea090de728740ae76',\n",
       "      'width': None}],\n",
       "    'name': 'Today’s Top Hits',\n",
       "    'owner': {'display_name': 'Spotify',\n",
       "     'external_urls': {'spotify': 'https://open.spotify.com/user/spotify'},\n",
       "     'href': 'https://api.spotify.com/v1/users/spotify',\n",
       "     'id': 'spotify',\n",
       "     'type': 'user',\n",
       "     'uri': 'spotify:user:spotify'},\n",
       "    'primary_color': '#FFFFFF',\n",
       "    'public': True,\n",
       "    'snapshot_id': 'ZeFg0AAAAACRG3Lo1w80AEkaBNGKSaX4',\n",
       "    'tracks': {'href': 'https://api.spotify.com/v1/playlists/37i9dQZF1DXcBWIGoYBM5M/tracks',\n",
       "     'total': 50},\n",
       "    'type': 'playlist',\n",
       "    'uri': 'spotify:playlist:37i9dQZF1DXcBWIGoYBM5M'},\n",
       "   {'collaborative': False,\n",
       "    'description': 'The hottest hip-life and highlife bangers from Ghana right now.  Cover: Smallgod',\n",
       "    'external_urls': {'spotify': 'https://open.spotify.com/playlist/37i9dQZF1DX7t977T5F4kQ'},\n",
       "    'href': 'https://api.spotify.com/v1/playlists/37i9dQZF1DX7t977T5F4kQ',\n",
       "    'id': '37i9dQZF1DX7t977T5F4kQ',\n",
       "    'images': [{'height': None,\n",
       "      'url': 'https://i.scdn.co/image/ab67706f000000028baabad63bde941b3c0024aa',\n",
       "      'width': None}],\n",
       "    'name': 'Ghana Party',\n",
       "    'owner': {'display_name': 'Spotify',\n",
       "     'external_urls': {'spotify': 'https://open.spotify.com/user/spotify'},\n",
       "     'href': 'https://api.spotify.com/v1/users/spotify',\n",
       "     'id': 'spotify',\n",
       "     'type': 'user',\n",
       "     'uri': 'spotify:user:spotify'},\n",
       "    'primary_color': '#ffffff',\n",
       "    'public': True,\n",
       "    'snapshot_id': 'ZeGe7QAAAADd14zseJFOIHJYctfh9k4u',\n",
       "    'tracks': {'href': 'https://api.spotify.com/v1/playlists/37i9dQZF1DX7t977T5F4kQ/tracks',\n",
       "     'total': 80},\n",
       "    'type': 'playlist',\n",
       "    'uri': 'spotify:playlist:37i9dQZF1DX7t977T5F4kQ'},\n",
       "   {'collaborative': False,\n",
       "    'description': 'All the vibes, enjoyment and future hits right here',\n",
       "    'external_urls': {'spotify': 'https://open.spotify.com/playlist/37i9dQZF1DWZhHP4V8F4YE'},\n",
       "    'href': 'https://api.spotify.com/v1/playlists/37i9dQZF1DWZhHP4V8F4YE',\n",
       "    'id': '37i9dQZF1DWZhHP4V8F4YE',\n",
       "    'images': [{'height': None,\n",
       "      'url': 'https://i.scdn.co/image/ab67706f0000000233533b1fff2951d487029ab5',\n",
       "      'width': None}],\n",
       "    'name': 'Viral Hits Africa',\n",
       "    'owner': {'display_name': 'Spotify',\n",
       "     'external_urls': {'spotify': 'https://open.spotify.com/user/spotify'},\n",
       "     'href': 'https://api.spotify.com/v1/users/spotify',\n",
       "     'id': 'spotify',\n",
       "     'type': 'user',\n",
       "     'uri': 'spotify:user:spotify'},\n",
       "    'primary_color': '#ffffff',\n",
       "    'public': True,\n",
       "    'snapshot_id': 'Zd7v7wAAAABvPlywfmq3zyFTPdHfaltN',\n",
       "    'tracks': {'href': 'https://api.spotify.com/v1/playlists/37i9dQZF1DWZhHP4V8F4YE/tracks',\n",
       "     'total': 50},\n",
       "    'type': 'playlist',\n",
       "    'uri': 'spotify:playlist:37i9dQZF1DWZhHP4V8F4YE'},\n",
       "   {'collaborative': False,\n",
       "    'description': 'The most intense local drill music firing up the continent. Cover:  <a href=\"https://open.spotify.com/artist/39IXXExWT64CmkWwkO2ANn?si=qDpnxdKhTsKWJyF1JY3lmQ\"> Beeztrap KOTM</a>  ',\n",
       "    'external_urls': {'spotify': 'https://open.spotify.com/playlist/37i9dQZF1DX7ygLlsNqPvp'},\n",
       "    'href': 'https://api.spotify.com/v1/playlists/37i9dQZF1DX7ygLlsNqPvp',\n",
       "    'id': '37i9dQZF1DX7ygLlsNqPvp',\n",
       "    'images': [{'height': None,\n",
       "      'url': 'https://i.scdn.co/image/ab67706f000000027adc2f7b66b09547fec7f3a8',\n",
       "      'width': None}],\n",
       "    'name': 'Asakaa',\n",
       "    'owner': {'display_name': 'Spotify',\n",
       "     'external_urls': {'spotify': 'https://open.spotify.com/user/spotify'},\n",
       "     'href': 'https://api.spotify.com/v1/users/spotify',\n",
       "     'id': 'spotify',\n",
       "     'type': 'user',\n",
       "     'uri': 'spotify:user:spotify'},\n",
       "    'primary_color': '#ffffff',\n",
       "    'public': True,\n",
       "    'snapshot_id': 'ZeEavAAAAADb6r1T4EVyPaQ89x358Kzj',\n",
       "    'tracks': {'href': 'https://api.spotify.com/v1/playlists/37i9dQZF1DX7ygLlsNqPvp/tracks',\n",
       "     'total': 50},\n",
       "    'type': 'playlist',\n",
       "    'uri': 'spotify:playlist:37i9dQZF1DX7ygLlsNqPvp'},\n",
       "   {'collaborative': False,\n",
       "    'description': 'New music from 21 Savage, Ye and Cardi B. ',\n",
       "    'external_urls': {'spotify': 'https://open.spotify.com/playlist/37i9dQZF1DX0XUsuxWHRQd'},\n",
       "    'href': 'https://api.spotify.com/v1/playlists/37i9dQZF1DX0XUsuxWHRQd',\n",
       "    'id': '37i9dQZF1DX0XUsuxWHRQd',\n",
       "    'images': [{'height': None,\n",
       "      'url': 'https://i.scdn.co/image/ab67706f000000026be5de2571827dbd9c823d6c',\n",
       "      'width': None}],\n",
       "    'name': 'RapCaviar',\n",
       "    'owner': {'display_name': 'Spotify',\n",
       "     'external_urls': {'spotify': 'https://open.spotify.com/user/spotify'},\n",
       "     'href': 'https://api.spotify.com/v1/users/spotify',\n",
       "     'id': 'spotify',\n",
       "     'type': 'user',\n",
       "     'uri': 'spotify:user:spotify'},\n",
       "    'primary_color': '#F49B23',\n",
       "    'public': True,\n",
       "    'snapshot_id': 'ZeSi2gAAAAD9vUpB3IdQrI0eLhsqO0Ep',\n",
       "    'tracks': {'href': 'https://api.spotify.com/v1/playlists/37i9dQZF1DX0XUsuxWHRQd/tracks',\n",
       "     'total': 50},\n",
       "    'type': 'playlist',\n",
       "    'uri': 'spotify:playlist:37i9dQZF1DX0XUsuxWHRQd'},\n",
       "   {'collaborative': False,\n",
       "    'description': 'The latest straight bars and Afro-Trap. Cover: <a href=\"https://open.spotify.com/artist/2LiqbH7OhqP0yuaG8VL1wJ?si=KbPfS5hIRBCLc0LhtKNwRw\"> Black Sherif</a>',\n",
       "    'external_urls': {'spotify': 'https://open.spotify.com/playlist/37i9dQZF1DXdl8xYyG9Dm1'},\n",
       "    'href': 'https://api.spotify.com/v1/playlists/37i9dQZF1DXdl8xYyG9Dm1',\n",
       "    'id': '37i9dQZF1DXdl8xYyG9Dm1',\n",
       "    'images': [{'height': None,\n",
       "      'url': 'https://i.scdn.co/image/ab67706f000000023c7cfbc69ddb9de8c9d00d98',\n",
       "      'width': None}],\n",
       "    'name': 'Afro Bars ',\n",
       "    'owner': {'display_name': 'Spotify',\n",
       "     'external_urls': {'spotify': 'https://open.spotify.com/user/spotify'},\n",
       "     'href': 'https://api.spotify.com/v1/users/spotify',\n",
       "     'id': 'spotify',\n",
       "     'type': 'user',\n",
       "     'uri': 'spotify:user:spotify'},\n",
       "    'primary_color': '#ffffff',\n",
       "    'public': True,\n",
       "    'snapshot_id': 'ZeEavAAAAACdYaT3cO4spsC6/DlsbqwD',\n",
       "    'tracks': {'href': 'https://api.spotify.com/v1/playlists/37i9dQZF1DXdl8xYyG9Dm1/tracks',\n",
       "     'total': 70},\n",
       "    'type': 'playlist',\n",
       "    'uri': 'spotify:playlist:37i9dQZF1DXdl8xYyG9Dm1'},\n",
       "   {'collaborative': False,\n",
       "    'description': 'The hottest Afropop, Afrobeats and Afro-Caribbean hits, all in one place. Cover: Jungeli',\n",
       "    'external_urls': {'spotify': 'https://open.spotify.com/playlist/37i9dQZF1DWX0o6sD1a6P5'},\n",
       "    'href': 'https://api.spotify.com/v1/playlists/37i9dQZF1DWX0o6sD1a6P5',\n",
       "    'id': '37i9dQZF1DWX0o6sD1a6P5',\n",
       "    'images': [{'height': None,\n",
       "      'url': 'https://i.scdn.co/image/ab67706f00000002c412f7afd9efbf03bba7b773',\n",
       "      'width': None}],\n",
       "    'name': 'Afro Hits',\n",
       "    'owner': {'display_name': 'Spotify',\n",
       "     'external_urls': {'spotify': 'https://open.spotify.com/user/spotify'},\n",
       "     'href': 'https://api.spotify.com/v1/users/spotify',\n",
       "     'id': 'spotify',\n",
       "     'type': 'user',\n",
       "     'uri': 'spotify:user:spotify'},\n",
       "    'primary_color': '#ffffff',\n",
       "    'public': True,\n",
       "    'snapshot_id': 'ZeEMcAAAAADSTAvkr14QDEOk9PjpmaqD',\n",
       "    'tracks': {'href': 'https://api.spotify.com/v1/playlists/37i9dQZF1DWX0o6sD1a6P5/tracks',\n",
       "     'total': 50},\n",
       "    'type': 'playlist',\n",
       "    'uri': 'spotify:playlist:37i9dQZF1DWX0o6sD1a6P5'},\n",
       "   {'collaborative': False,\n",
       "    'description': 'Hottest bars coming live from the 233.  Cover:  Kwaku Flick',\n",
       "    'external_urls': {'spotify': 'https://open.spotify.com/playlist/37i9dQZF1DX7qRTMD2EbNu'},\n",
       "    'href': 'https://api.spotify.com/v1/playlists/37i9dQZF1DX7qRTMD2EbNu',\n",
       "    'id': '37i9dQZF1DX7qRTMD2EbNu',\n",
       "    'images': [{'height': None,\n",
       "      'url': 'https://i.scdn.co/image/ab67706f00000002041e5a30cc5d87b67ffd0ada',\n",
       "      'width': None}],\n",
       "    'name': '+233 Bars ',\n",
       "    'owner': {'display_name': 'Spotify',\n",
       "     'external_urls': {'spotify': 'https://open.spotify.com/user/spotify'},\n",
       "     'href': 'https://api.spotify.com/v1/users/spotify',\n",
       "     'id': 'spotify',\n",
       "     'type': 'user',\n",
       "     'uri': 'spotify:user:spotify'},\n",
       "    'primary_color': '#ffffff',\n",
       "    'public': True,\n",
       "    'snapshot_id': 'ZeEavAAAAADt37QoUAZEKze31eYbl5cB',\n",
       "    'tracks': {'href': 'https://api.spotify.com/v1/playlists/37i9dQZF1DX7qRTMD2EbNu/tracks',\n",
       "     'total': 90},\n",
       "    'type': 'playlist',\n",
       "    'uri': 'spotify:playlist:37i9dQZF1DX7qRTMD2EbNu'},\n",
       "   {'collaborative': False,\n",
       "    'description': 'Afro sounds crossing borders. Cover: Bnxn',\n",
       "    'external_urls': {'spotify': 'https://open.spotify.com/playlist/37i9dQZF1DWT6SJaitNDax'},\n",
       "    'href': 'https://api.spotify.com/v1/playlists/37i9dQZF1DWT6SJaitNDax',\n",
       "    'id': '37i9dQZF1DWT6SJaitNDax',\n",
       "    'images': [{'height': None,\n",
       "      'url': 'https://i.scdn.co/image/ab67706f000000021c8039c03f950a8c399e535a',\n",
       "      'width': None}],\n",
       "    'name': 'Big Mood',\n",
       "    'owner': {'display_name': 'Spotify',\n",
       "     'external_urls': {'spotify': 'https://open.spotify.com/user/spotify'},\n",
       "     'href': 'https://api.spotify.com/v1/users/spotify',\n",
       "     'id': 'spotify',\n",
       "     'type': 'user',\n",
       "     'uri': 'spotify:user:spotify'},\n",
       "    'primary_color': '#FFFFFF',\n",
       "    'public': True,\n",
       "    'snapshot_id': 'ZeFg0AAAAAD76Hi9r2UBMQUvG2LNCYNS',\n",
       "    'tracks': {'href': 'https://api.spotify.com/v1/playlists/37i9dQZF1DWT6SJaitNDax/tracks',\n",
       "     'total': 70},\n",
       "    'type': 'playlist',\n",
       "    'uri': 'spotify:playlist:37i9dQZF1DWT6SJaitNDax'},\n",
       "   {'collaborative': False,\n",
       "    'description': 'New Music from KiDi, Kelvyn Boy, Olivetheboy, Ruger &BNXN and more ',\n",
       "    'external_urls': {'spotify': 'https://open.spotify.com/playlist/37i9dQZF1DXaBaj8NX3WVb'},\n",
       "    'href': 'https://api.spotify.com/v1/playlists/37i9dQZF1DXaBaj8NX3WVb',\n",
       "    'id': '37i9dQZF1DXaBaj8NX3WVb',\n",
       "    'images': [{'height': None,\n",
       "      'url': 'https://i.scdn.co/image/ab67706f000000024bd2c16073c8aeef18184dc5',\n",
       "      'width': None}],\n",
       "    'name': 'New Music Friday Ghana',\n",
       "    'owner': {'display_name': 'Spotify',\n",
       "     'external_urls': {'spotify': 'https://open.spotify.com/user/spotify'},\n",
       "     'href': 'https://api.spotify.com/v1/users/spotify',\n",
       "     'id': 'spotify',\n",
       "     'type': 'user',\n",
       "     'uri': 'spotify:user:spotify'},\n",
       "    'primary_color': '#ffffff',\n",
       "    'public': True,\n",
       "    'snapshot_id': 'ZeEavAAAAAAd8T+U1MFxwKrOIRcugWT+',\n",
       "    'tracks': {'href': 'https://api.spotify.com/v1/playlists/37i9dQZF1DXaBaj8NX3WVb/tracks',\n",
       "     'total': 59},\n",
       "    'type': 'playlist',\n",
       "    'uri': 'spotify:playlist:37i9dQZF1DXaBaj8NX3WVb'},\n",
       "   {'collaborative': False,\n",
       "    'description': 'Fresh gospel music from Ghana. Cover: MOGMusic',\n",
       "    'external_urls': {'spotify': 'https://open.spotify.com/playlist/37i9dQZF1DWUEN7P4UGUaR'},\n",
       "    'href': 'https://api.spotify.com/v1/playlists/37i9dQZF1DWUEN7P4UGUaR',\n",
       "    'id': '37i9dQZF1DWUEN7P4UGUaR',\n",
       "    'images': [{'height': None,\n",
       "      'url': 'https://i.scdn.co/image/ab67706f00000002d8dcf69881f14457f5156b42',\n",
       "      'width': None}],\n",
       "    'name': 'Aseda',\n",
       "    'owner': {'display_name': 'Spotify',\n",
       "     'external_urls': {'spotify': 'https://open.spotify.com/user/spotify'},\n",
       "     'href': 'https://api.spotify.com/v1/users/spotify',\n",
       "     'id': 'spotify',\n",
       "     'type': 'user',\n",
       "     'uri': 'spotify:user:spotify'},\n",
       "    'primary_color': '#ffffff',\n",
       "    'public': True,\n",
       "    'snapshot_id': 'ZdfgAAAAAABYPBDDyvmbzTiYbOQf5mn9',\n",
       "    'tracks': {'href': 'https://api.spotify.com/v1/playlists/37i9dQZF1DWUEN7P4UGUaR/tracks',\n",
       "     'total': 50},\n",
       "    'type': 'playlist',\n",
       "    'uri': 'spotify:playlist:37i9dQZF1DWUEN7P4UGUaR'},\n",
       "   {'collaborative': False,\n",
       "    'description': 'In the mood for live Christian and Gospel music? This is the one. Cover: Dunsin Oyekan',\n",
       "    'external_urls': {'spotify': 'https://open.spotify.com/playlist/37i9dQZF1DWYW0wKwdPj2g'},\n",
       "    'href': 'https://api.spotify.com/v1/playlists/37i9dQZF1DWYW0wKwdPj2g',\n",
       "    'id': '37i9dQZF1DWYW0wKwdPj2g',\n",
       "    'images': [{'height': None,\n",
       "      'url': 'https://i.scdn.co/image/ab67706f00000002df9de3a293d0351453acbe10',\n",
       "      'width': None}],\n",
       "    'name': 'Come Alive',\n",
       "    'owner': {'display_name': 'Spotify',\n",
       "     'external_urls': {'spotify': 'https://open.spotify.com/user/spotify'},\n",
       "     'href': 'https://api.spotify.com/v1/users/spotify',\n",
       "     'id': 'spotify',\n",
       "     'type': 'user',\n",
       "     'uri': 'spotify:user:spotify'},\n",
       "    'primary_color': '#ffffff',\n",
       "    'public': True,\n",
       "    'snapshot_id': 'ZeEavAAAAACwBTqeUqNcb6RtzJ9L8ZWc',\n",
       "    'tracks': {'href': 'https://api.spotify.com/v1/playlists/37i9dQZF1DWYW0wKwdPj2g/tracks',\n",
       "     'total': 53},\n",
       "    'type': 'playlist',\n",
       "    'uri': 'spotify:playlist:37i9dQZF1DWYW0wKwdPj2g'},\n",
       "   {'collaborative': False,\n",
       "    'description': 'Ghanaian Love songs. Cover: Kelvyn Boy',\n",
       "    'external_urls': {'spotify': 'https://open.spotify.com/playlist/37i9dQZF1DX1GAfROyfTyH'},\n",
       "    'href': 'https://api.spotify.com/v1/playlists/37i9dQZF1DX1GAfROyfTyH',\n",
       "    'id': '37i9dQZF1DX1GAfROyfTyH',\n",
       "    'images': [{'height': None,\n",
       "      'url': 'https://i.scdn.co/image/ab67706f0000000268747ab7965e83ebc58259b7',\n",
       "      'width': None}],\n",
       "    'name': 'Odo ',\n",
       "    'owner': {'display_name': 'Spotify',\n",
       "     'external_urls': {'spotify': 'https://open.spotify.com/user/spotify'},\n",
       "     'href': 'https://api.spotify.com/v1/users/spotify',\n",
       "     'id': 'spotify',\n",
       "     'type': 'user',\n",
       "     'uri': 'spotify:user:spotify'},\n",
       "    'primary_color': '#ffffff',\n",
       "    'public': True,\n",
       "    'snapshot_id': 'ZeEavAAAAAA1K+vCCOYbFNnCN0jCokXo',\n",
       "    'tracks': {'href': 'https://api.spotify.com/v1/playlists/37i9dQZF1DX1GAfROyfTyH/tracks',\n",
       "     'total': 60},\n",
       "    'type': 'playlist',\n",
       "    'uri': 'spotify:playlist:37i9dQZF1DX1GAfROyfTyH'},\n",
       "   {'collaborative': False,\n",
       "    'description': 'mate- Bus stop!',\n",
       "    'external_urls': {'spotify': 'https://open.spotify.com/playlist/37i9dQZF1DX8tCg29z8GX8'},\n",
       "    'href': 'https://api.spotify.com/v1/playlists/37i9dQZF1DX8tCg29z8GX8',\n",
       "    'id': '37i9dQZF1DX8tCg29z8GX8',\n",
       "    'images': [{'height': None,\n",
       "      'url': 'https://i.scdn.co/image/ab67706f000000026f2dff130b482af8dcda7cfe',\n",
       "      'width': None}],\n",
       "    'name': 'Troski Rhythms',\n",
       "    'owner': {'display_name': 'Spotify',\n",
       "     'external_urls': {'spotify': 'https://open.spotify.com/user/spotify'},\n",
       "     'href': 'https://api.spotify.com/v1/users/spotify',\n",
       "     'id': 'spotify',\n",
       "     'type': 'user',\n",
       "     'uri': 'spotify:user:spotify'},\n",
       "    'primary_color': '#ffffff',\n",
       "    'public': True,\n",
       "    'snapshot_id': 'ZeEavAAAAAC8awpQev+USd6tiZR5kozH',\n",
       "    'tracks': {'href': 'https://api.spotify.com/v1/playlists/37i9dQZF1DX8tCg29z8GX8/tracks',\n",
       "     'total': 80},\n",
       "    'type': 'playlist',\n",
       "    'uri': 'spotify:playlist:37i9dQZF1DX8tCg29z8GX8'},\n",
       "   {'collaborative': False,\n",
       "    'description': 'If your mood is to Praise and Worship the Almighty God for what He has done, then this is the right playlist. A mix of both African and International songs. ',\n",
       "    'external_urls': {'spotify': 'https://open.spotify.com/playlist/37i9dQZF1DX8091X7wyurB'},\n",
       "    'href': 'https://api.spotify.com/v1/playlists/37i9dQZF1DX8091X7wyurB',\n",
       "    'id': '37i9dQZF1DX8091X7wyurB',\n",
       "    'images': [{'height': None,\n",
       "      'url': 'https://i.scdn.co/image/ab67706f00000002a5616f52e14476afc137d7b2',\n",
       "      'width': None}],\n",
       "    'name': 'Praise and Worship',\n",
       "    'owner': {'display_name': 'Spotify',\n",
       "     'external_urls': {'spotify': 'https://open.spotify.com/user/spotify'},\n",
       "     'href': 'https://api.spotify.com/v1/users/spotify',\n",
       "     'id': 'spotify',\n",
       "     'type': 'user',\n",
       "     'uri': 'spotify:user:spotify'},\n",
       "    'primary_color': '#ffffff',\n",
       "    'public': True,\n",
       "    'snapshot_id': 'ZeEavAAAAACyh74EbymETmC+MqloUULs',\n",
       "    'tracks': {'href': 'https://api.spotify.com/v1/playlists/37i9dQZF1DX8091X7wyurB/tracks',\n",
       "     'total': 80},\n",
       "    'type': 'playlist',\n",
       "    'uri': 'spotify:playlist:37i9dQZF1DX8091X7wyurB'},\n",
       "   {'collaborative': False,\n",
       "    'description': 'We Outsideeeee!',\n",
       "    'external_urls': {'spotify': 'https://open.spotify.com/playlist/37i9dQZF1DX3tRPv7i7zvy'},\n",
       "    'href': 'https://api.spotify.com/v1/playlists/37i9dQZF1DX3tRPv7i7zvy',\n",
       "    'id': '37i9dQZF1DX3tRPv7i7zvy',\n",
       "    'images': [{'height': None,\n",
       "      'url': 'https://i.scdn.co/image/ab67706f00000002373ead41fadc039cef5b9b13',\n",
       "      'width': None}],\n",
       "    'name': 'Abonten ',\n",
       "    'owner': {'display_name': 'Spotify',\n",
       "     'external_urls': {'spotify': 'https://open.spotify.com/user/spotify'},\n",
       "     'href': 'https://api.spotify.com/v1/users/spotify',\n",
       "     'id': 'spotify',\n",
       "     'type': 'user',\n",
       "     'uri': 'spotify:user:spotify'},\n",
       "    'primary_color': '#ffffff',\n",
       "    'public': True,\n",
       "    'snapshot_id': 'ZeEavAAAAACluPpW+g1+PgNFrh46nt/W',\n",
       "    'tracks': {'href': 'https://api.spotify.com/v1/playlists/37i9dQZF1DX3tRPv7i7zvy/tracks',\n",
       "     'total': 60},\n",
       "    'type': 'playlist',\n",
       "    'uri': 'spotify:playlist:37i9dQZF1DX3tRPv7i7zvy'},\n",
       "   {'collaborative': False,\n",
       "    'description': 'The hottest Afropop records on the planet.  Cover:  <a href=\"https://open.spotify.com/artist/14PimM6ohO2gYftuwTam9V?si=ecI8cYtxSeGSLZZQ7pxaHA\"> KiDi</a>  ',\n",
       "    'external_urls': {'spotify': 'https://open.spotify.com/playlist/37i9dQZF1DWYs2pvwxWA7l'},\n",
       "    'href': 'https://api.spotify.com/v1/playlists/37i9dQZF1DWYs2pvwxWA7l',\n",
       "    'id': '37i9dQZF1DWYs2pvwxWA7l',\n",
       "    'images': [{'height': None,\n",
       "      'url': 'https://i.scdn.co/image/ab67706f00000002e24b05386eed4dd2b1b84638',\n",
       "      'width': None}],\n",
       "    'name': 'Afropop',\n",
       "    'owner': {'display_name': 'Spotify',\n",
       "     'external_urls': {'spotify': 'https://open.spotify.com/user/spotify'},\n",
       "     'href': 'https://api.spotify.com/v1/users/spotify',\n",
       "     'id': 'spotify',\n",
       "     'type': 'user',\n",
       "     'uri': 'spotify:user:spotify'},\n",
       "    'primary_color': '#ffffff',\n",
       "    'public': True,\n",
       "    'snapshot_id': 'ZeEavAAAAAA3ucQGOyIG4qlt9crJqeiW',\n",
       "    'tracks': {'href': 'https://api.spotify.com/v1/playlists/37i9dQZF1DWYs2pvwxWA7l/tracks',\n",
       "     'total': 70},\n",
       "    'type': 'playlist',\n",
       "    'uri': 'spotify:playlist:37i9dQZF1DWYs2pvwxWA7l'}],\n",
       "  'limit': 20,\n",
       "  'next': 'https://api.spotify.com/v1/browse/featured-playlists?offset=20&limit=20',\n",
       "  'offset': 0,\n",
       "  'previous': None,\n",
       "  'total': 100}}"
      ]
     },
     "execution_count": 33,
     "metadata": {},
     "output_type": "execute_result"
    }
   ],
   "source": [
    "sp.featured_playlists() # We get a playlist id of a playlist we like"
   ]
  },
  {
   "cell_type": "markdown",
   "id": "90f558f3-c638-4df4-b5a4-e24f7847d52a",
   "metadata": {},
   "source": [
    "### Getting a Playlist's Details\n",
    "To fetch details about a specific playlist, you can use the playlist method. You'll need the playlist's Spotify ID."
   ]
  },
  {
   "cell_type": "markdown",
   "id": "0eef529f-617f-4ea3-8156-07472ac8e6d5",
   "metadata": {},
   "source": [
    "In this example, we will use the following playlist id: *37i9dQZF1DXd9zR7tdziuQ*"
   ]
  },
  {
   "cell_type": "code",
   "execution_count": 34,
   "id": "46d35121-9256-4cf4-81f5-118b87f7af32",
   "metadata": {},
   "outputs": [],
   "source": [
    "playlist_id = \"37i9dQZF1DXd9zR7tdziuQ\"\n",
    "playlist = sp.playlist(playlist_id)"
   ]
  },
  {
   "cell_type": "code",
   "execution_count": 35,
   "id": "5260f67f-6024-4fee-8449-30904f03bf76",
   "metadata": {},
   "outputs": [
    {
     "name": "stdout",
     "output_type": "stream",
     "text": [
      "Hits acústicos\n",
      "Relájate con tus canciones favoritas en versión acústica / Descontrai com versões acústicas das tuas músicas preferidas.\n"
     ]
    }
   ],
   "source": [
    "print(playlist['name'])  # Print the playlist's name\n",
    "print(playlist['description'])  # Print the playlist's description"
   ]
  },
  {
   "cell_type": "markdown",
   "id": "13bc8631-69f0-4b98-9cc9-5baecbaea9ba",
   "metadata": {},
   "source": [
    "### Getting Tracks from a Playlist\n",
    "If you want to get the tracks from a specific playlist, you can use the playlist_tracks method."
   ]
  },
  {
   "cell_type": "code",
   "execution_count": 40,
   "id": "69c78f8d-7e6a-4d15-bcbb-fc93edb82433",
   "metadata": {},
   "outputs": [
    {
     "ename": "SyntaxError",
     "evalue": "incomplete input (3574615342.py, line 3)",
     "output_type": "error",
     "traceback": [
      "\u001b[1;36m  Cell \u001b[1;32mIn[40], line 3\u001b[1;36m\u001b[0m\n\u001b[1;33m    #print(track['track']['name'])  # Print each track's name\u001b[0m\n\u001b[1;37m                                                             ^\u001b[0m\n\u001b[1;31mSyntaxError\u001b[0m\u001b[1;31m:\u001b[0m incomplete input\n"
     ]
    }
   ],
   "source": [
    "tracks = sp.playlist_tracks(playlist_id)\n",
    "for track in tracks['items']:\n",
    "    print(track['track']['name'])  # Print each track's name"
   ]
  },
  {
   "cell_type": "markdown",
   "id": "2775714d-acc7-4555-96bd-2c541ab0855e",
   "metadata": {},
   "source": [
    "### Getting Artists from a Playlist\n",
    "\n",
    "To extract all the artists from the tracks in a playlist, you'd typically follow these steps:\n",
    "\n",
    "1. Fetch the playlist's tracks.\n",
    "2. Iterate through each track.\n",
    "3. For each track, extract the associated artists."
   ]
  },
  {
   "cell_type": "code",
   "execution_count": 39,
   "id": "65c5e5c4-f186-42c6-b136-4ef02b0b01ff",
   "metadata": {},
   "outputs": [
    {
     "name": "stdout",
     "output_type": "stream",
     "text": [
      "['Lana Del Rey', 'Iron & Wine', 'Dermot Kennedy', 'Tom Odell', 'Angus & Julia Stone', 'Daniela Andrade', 'Elton John', 'Dua Lipa', 'Jasmine Thompson', 'Maroon 5', 'JP Cooper', 'Howie Day', 'Sam Smith', 'James Bay', 'Ed Sheeran', 'Us The Duo', 'Florence + The Machine', 'Alicia Keys', 'James TW', 'Lissie', 'Thomas Daniel', 'Ouvindo', 'James Arthur', 'Julia Michaels', 'Missy & Blonde', 'Julia Ross', 'Julia Sheer', 'Jon D', 'Aaron Krause', 'Liza Anne', 'Noah Guthrie', 'Niall Horan', 'James Blunt', 'Kacey Musgraves', 'The Mayries', 'Freedom Fry', 'Charlie Puth', 'Lauv', 'Tom Speight', 'Lydia Clowes', 'Eddie Berman', 'Colin & Caroline', 'Kygo', 'Conrad Sewell', 'The Wind and The Wave', 'Twin Bandit', 'Joshua Hyslop', 'Calum Scott', 'John Mayer', 'Run River North', 'Taken By Trees', 'Lotte Kestner', 'Sixpence None The Richer', 'Jessie J', 'Jonas Blue', 'William Singe', 'Megan Davies', 'Keelan Donovan', 'John Legend', 'Joy Williams', 'Halloran & Kate', 'Obadiah Parker', 'Passenger', 'Lily Allen', 'Sara Farell', \"Israel Kamakawiwo'ole\", 'Frente!', 'Matt Johnson', 'Gardiner Sisters', 'The Lumineers', 'Joanna Wang', 'Daniel Powter', 'Sia', 'Lykke Li', 'Becca Adams', 'William Fitzsimmons', 'Molly Parden', 'Hollow Hum', 'Black Pumas', 'Alex Cornell', 'Rachel Brown', 'Clementine Duo', 'Arlo Parks', 'Sarah Jarosz', 'The Civil Wars', 'Kyle Nachtigal', 'Reggii', 'Jaclyn Davies']\n"
     ]
    }
   ],
   "source": [
    "# List to store unique artist names\n",
    "artists_list = []\n",
    "\n",
    "for track_item in tracks['items']:\n",
    "    track = track_item['track']\n",
    "    for artist in track['artists']:\n",
    "        artist_name = artist['name']\n",
    "        if artist_name not in artists_list:  # This ensures each artist is added only once\n",
    "            artists_list.append(artist_name)\n",
    "\n",
    "print(artists_list)"
   ]
  },
  {
   "cell_type": "markdown",
   "id": "7b52207e-a4f0-4f90-9f4e-3170d7f0f3fe",
   "metadata": {},
   "source": [
    "## Exercise 2: Unraveling the World of Playlists\n",
    "\n",
    "\n",
    "1. **Featured Exploration**: \n",
    "   - Fetch the list of Spotify's current featured playlists. \n",
    "   - Extract and display the names and IDs of the top 5 featured playlists.\n",
    "   \n",
    "2. **Deep Dive**:\n",
    "   - Choose any one of the top 5 featured playlists (you can choose the one you personally find most interesting or simply pick one randomly).\n",
    "   - Fetch and display its name, description, and total track count.\n",
    "\n",
    "3. **Track-tastic**:\n",
    "   - Extract and display the names of the first 10 tracks in the chosen playlist.\n",
    "\n",
    "4. **Artistic Flair**:\n",
    "   - Create a dictionary where the keys are the names of the first 10 tracks, and the values are lists containing the names of the artists associated with each track.\n",
    "   - For example: `{\"TrackName1\": [\"Artist1\", \"Artist2\"], \"TrackName2\": [\"Artist3\"]}`\n",
    "   "
   ]
  },
  {
   "cell_type": "code",
   "execution_count": 41,
   "id": "ed92d961-9646-4375-a386-ccc320a958f5",
   "metadata": {},
   "outputs": [
    {
     "name": "stdout",
     "output_type": "stream",
     "text": [
      "Top 5 Featured Playlists:\n",
      "Name: Hot Hits Ghana\n",
      "ID: 37i9dQZF1DWSHg3zCMrBDf\n",
      "------------------------\n",
      "Name: African Heat\n",
      "ID: 37i9dQZF1DWYkaDif7Ztbp\n",
      "------------------------\n",
      "Name: African Gospel Hits\n",
      "ID: 37i9dQZF1DX9lAYMw7KoAO\n",
      "------------------------\n",
      "Name: Today’s Top Hits\n",
      "ID: 37i9dQZF1DXcBWIGoYBM5M\n",
      "------------------------\n",
      "Name: Ghana Party\n",
      "ID: 37i9dQZF1DX7t977T5F4kQ\n",
      "------------------------\n"
     ]
    }
   ],
   "source": [
    "# Featured Playlists Exploration\n",
    "featured_playlists = sp.featured_playlists(limit=5)\n",
    "\n",
    "# Extract and display the names and IDs of the top 5 featured playlists\n",
    "top_featured_playlists = featured_playlists['playlists']['items'][:5]\n",
    "\n",
    "print(\"Top 5 Featured Playlists:\")\n",
    "for playlist in top_featured_playlists:\n",
    "    print(f\"Name: {playlist['name']}\")\n",
    "    print(f\"ID: {playlist['id']}\")\n",
    "    print(\"------------------------\")\n"
   ]
  },
  {
   "cell_type": "code",
   "execution_count": 42,
   "id": "752be9f9",
   "metadata": {},
   "outputs": [
    {
     "name": "stdout",
     "output_type": "stream",
     "text": [
      "\n",
      "Chosen Playlist Details:\n",
      "Name: Hot Hits Ghana\n",
      "Description: The hottest tracks in Ghana. Cover: KiDi\n",
      "Total Track Count: 50\n"
     ]
    }
   ],
   "source": [
    "# Choosing one featured playlist \n",
    "chosen_playlist_id = top_featured_playlists[0]['id']\n",
    "\n",
    "# the Chosen Playlist\n",
    "chosen_playlist = sp.playlist(chosen_playlist_id)\n",
    "\n",
    "# Displaying the chosen playlist's name, description, and total track count\n",
    "print(\"\\nChosen Playlist Details:\")\n",
    "print(f\"Name: {chosen_playlist['name']}\")\n",
    "print(f\"Description: {chosen_playlist['description']}\")\n",
    "print(f\"Total Track Count: {chosen_playlist['tracks']['total']}\")\n"
   ]
  },
  {
   "cell_type": "code",
   "execution_count": 43,
   "id": "59ae7972",
   "metadata": {},
   "outputs": [
    {
     "name": "stdout",
     "output_type": "stream",
     "text": [
      "\n",
      "First 10 Tracks in the Chosen Playlist:\n",
      "1. Perfect Combi\n",
      "2. WOTOWOTO SEASONING (feat. Black Sherif)\n",
      "3. Danger\n",
      "4. Rent Free\n",
      "5. Run\n",
      "6. Otan\n",
      "7. Fallen Angel\n",
      "8. Asylum\n",
      "9. Water\n",
      "10. LONELY ROAD\n"
     ]
    }
   ],
   "source": [
    "# Extracting and displaying the names of the first 10 tracks in the chosen playlist\n",
    "print(\"\\nFirst 10 Tracks in the Chosen Playlist:\")\n",
    "tracks_in_chosen_playlist = chosen_playlist['tracks']['items'][:10]\n",
    "for i, track in enumerate(tracks_in_chosen_playlist, start=1):\n",
    "    print(f\"{i}. {track['track']['name']}\")\n",
    "\n"
   ]
  },
  {
   "cell_type": "code",
   "execution_count": 44,
   "id": "9ea207c6",
   "metadata": {},
   "outputs": [
    {
     "name": "stdout",
     "output_type": "stream",
     "text": [
      "\n",
      "Track Artist Dictionary:\n",
      "Perfect Combi: ['King Promise', 'Gabzy']\n",
      "WOTOWOTO SEASONING (feat. Black Sherif): ['ODUMODUBLVCK', 'Black Sherif']\n",
      "Danger: ['KiDi']\n",
      "Rent Free: ['Gyakie']\n",
      "Run: ['Black Sherif', 'EMPIRE']\n",
      "Otan: ['Sarkodie']\n",
      "Fallen Angel: ['Smallgod', 'Black Sherif']\n",
      "Asylum: ['Olivetheboy']\n",
      "Water: ['Tyla']\n",
      "LONELY ROAD: [\"O'Kenneth\", 'XlimKid']\n"
     ]
    }
   ],
   "source": [
    "# A dictionary with track names and associated artists\n",
    "track_artist_dict = {}\n",
    "for track in tracks_in_chosen_playlist:\n",
    "    track_name = track['track']['name']\n",
    "    artists_list = [artist['name'] for artist in track['track']['artists']]\n",
    "    track_artist_dict[track_name] = artists_list\n",
    "\n",
    "# Displaying the created dictionary\n",
    "print(\"\\nTrack Artist Dictionary:\")\n",
    "for track_name, artists_list in track_artist_dict.items():\n",
    "    print(f\"{track_name}: {artists_list}\")\n"
   ]
  },
  {
   "cell_type": "code",
   "execution_count": null,
   "id": "45afb734",
   "metadata": {},
   "outputs": [],
   "source": []
  }
 ],
 "metadata": {
  "kernelspec": {
   "display_name": "Python 3 (ipykernel)",
   "language": "python",
   "name": "python3"
  },
  "language_info": {
   "codemirror_mode": {
    "name": "ipython",
    "version": 3
   },
   "file_extension": ".py",
   "mimetype": "text/x-python",
   "name": "python",
   "nbconvert_exporter": "python",
   "pygments_lexer": "ipython3",
   "version": "3.11.5"
  }
 },
 "nbformat": 4,
 "nbformat_minor": 5
}
